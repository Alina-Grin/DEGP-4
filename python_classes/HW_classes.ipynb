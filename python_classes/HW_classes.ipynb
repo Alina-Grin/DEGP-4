{
 "cells": [
  {
   "cell_type": "markdown",
   "metadata": {},
   "source": [
    "### Задание 1"
   ]
  },
  {
   "cell_type": "code",
   "execution_count": 1,
   "metadata": {},
   "outputs": [
    {
     "name": "stdout",
     "output_type": "stream",
     "text": [
      "Самый высокий курс у СДР (специальные права заимствования)\n"
     ]
    }
   ],
   "source": [
    "import requests\n",
    "\n",
    "def max_rate():\n",
    "    req = requests.get('https://www.cbr-xml-daily.ru/daily_json.js').json()['Valute']\n",
    "    rates = {value['Name'] : value['Value'] for value in req.values()}\n",
    "    expencive = ''.join(list(k for k, v in rates.items() if v == max(rates.values())))\n",
    "    return(expencive)\n",
    "\n",
    "print(f'Самый высокий курс у {max_rate()}')"
   ]
  },
  {
   "cell_type": "markdown",
   "metadata": {},
   "source": [
    "### Задание 2"
   ]
  },
  {
   "cell_type": "code",
   "execution_count": 2,
   "metadata": {},
   "outputs": [],
   "source": [
    "class Rate:\n",
    "    def __init__(self, format_='value', diff = False):\n",
    "        self.format = format_\n",
    "        self.diff = diff\n",
    "    \n",
    "    def exchange_rates(self):\n",
    "        \"\"\"\n",
    "        Возвращает ответ сервиса с информацией о валютах в виде:\n",
    "        \n",
    "        {\n",
    "            'AMD': {\n",
    "                'CharCode': 'AMD',\n",
    "                'ID': 'R01060',\n",
    "                'Name': 'Армянских драмов',\n",
    "                'Nominal': 100,\n",
    "                'NumCode': '051',\n",
    "                'Previous': 14.103,\n",
    "                'Value': 14.0879\n",
    "                },\n",
    "            ...\n",
    "        }\n",
    "        \"\"\"\n",
    "        self.r = requests.get('https://www.cbr-xml-daily.ru/daily_json.js')\n",
    "        return self.r.json()['Valute']\n",
    "    \n",
    "    def make_format(self, currency):\n",
    "        \"\"\"\n",
    "        Возвращает информацию о валюте currency в двух вариантах:\n",
    "        - полная информация о валюте при self.format = 'full':\n",
    "        Rate('full').make_format('EUR')\n",
    "        {\n",
    "            'CharCode': 'EUR',\n",
    "            'ID': 'R01239',\n",
    "            'Name': 'Евро',\n",
    "            'Nominal': 1,\n",
    "            'NumCode': '978',\n",
    "            'Previous': 79.6765,\n",
    "            'Value': 79.4966\n",
    "        }\n",
    "        \n",
    "        Rate('value').make_format('EUR')\n",
    "        79.4966\n",
    "        \"\"\"\n",
    "        response = self.exchange_rates()\n",
    "        \n",
    "        if currency in response:\n",
    "            if self.format == 'full':\n",
    "                return response[currency]\n",
    "            \n",
    "            if self.format == 'value':\n",
    "                return response[currency]['Value']\n",
    "        \n",
    "        return 'Error'\n",
    "    \n",
    "    def eur(self):\n",
    "        \"\"\"Возвращает курс евро на сегодня в формате self.format\n",
    "        либо разницу с прошлым значением при self.diff = True\"\"\"\n",
    "        if self.diff == True:\n",
    "            return (self.exchange_rates()['EUR']['Previous'] - self.exchange_rates()['EUR']['Value'])\n",
    "        else:\n",
    "            return self.make_format('EUR')\n",
    "    \n",
    "    def usd(self):\n",
    "        \"\"\"Возвращает курс доллара на сегодня в формате self.format\n",
    "        либо разницу с прошлым значением при self.diff = True\"\"\"\n",
    "        if self.diff == True:\n",
    "            return (self.exchange_rates()['USD']['Previous'] - self.exchange_rates()['USD']['Value'])\n",
    "        else:\n",
    "            return self.make_format('USD')\n",
    "    \n",
    "    def brl(self):\n",
    "        \"\"\"Возвращает курс бразильского реала на сегодня в формате self.format\n",
    "        либо разницу с прошлым значением при self.diff = True\"\"\"\n",
    "        if self.diff == True:\n",
    "            return (self.exchange_rates()['BRL']['Previous'] - self.exchange_rates()['BRL']['Value'])\n",
    "        else:\n",
    "            return self.make_format('BRL')"
   ]
  },
  {
   "cell_type": "code",
   "execution_count": 3,
   "metadata": {},
   "outputs": [
    {
     "data": {
      "text/plain": [
       "0.4989999999999952"
      ]
     },
     "execution_count": 3,
     "metadata": {},
     "output_type": "execute_result"
    }
   ],
   "source": [
    "curr = Rate(diff = True)\n",
    "curr.usd()"
   ]
  },
  {
   "cell_type": "markdown",
   "metadata": {},
   "source": [
    "### Задание 3"
   ]
  },
  {
   "cell_type": "code",
   "execution_count": 4,
   "metadata": {},
   "outputs": [],
   "source": [
    "class Employee:\n",
    "    def __init__(self, name, seniority):\n",
    "        self.name = name\n",
    "        self.seniority = seniority\n",
    "        \n",
    "        self.grade = 1\n",
    "    \n",
    "    def grade_up(self):\n",
    "        \"\"\"Повышает уровень сотрудника\"\"\"\n",
    "        self.grade += 1\n",
    "    \n",
    "    def publish_grade(self):\n",
    "        \"\"\"Публикация результатов аккредитации сотрудников\"\"\"\n",
    "        print(f'Сотрудник {self.name} имеет квалификацию {self.grade}')"
   ]
  },
  {
   "cell_type": "code",
   "execution_count": 5,
   "metadata": {},
   "outputs": [],
   "source": [
    "# “Повышение на 1 грейд за каждые 7 баллов. Получение международной премии – это +2 балла”\n",
    "\n",
    "class Designer(Employee):\n",
    "    def __init__(self, name, seniority, awards = False):\n",
    "        super().__init__(name, seniority)\n",
    "        self.awards = awards\n",
    "    \n",
    "    def check_if_it_is_time_for_upgrade(self):\n",
    "        # для каждой аккредитации увеличиваем счетчик на 1\n",
    "        if self.awards == True:\n",
    "            self.seniority += 2\n",
    "        else:\n",
    "            self.seniority += 1\n",
    "        \n",
    "        # условие повышения сотрудника за каждые 7 баллов\n",
    "        if self.seniority % 7 == 0:\n",
    "            self.grade_up()\n",
    "        \n",
    "        # публикация результатов\n",
    "        return self.publish_grade()\n",
    "    \n",
    "    def get_awards(self):\n",
    "        self.awards = True\n",
    "        self.check_if_it_is_time_for_upgrade()\n",
    "        self.awards = False"
   ]
  },
  {
   "cell_type": "code",
   "execution_count": 6,
   "metadata": {},
   "outputs": [
    {
     "name": "stdout",
     "output_type": "stream",
     "text": [
      "Количество баллов при поступлении на работу 0\n",
      "Сотрудник Александр имеет квалификацию 1\n",
      "Количество баллов после получения премии 2\n",
      "Сотрудник Александр имеет квалификацию 1\n",
      "Количество баллов после получения второй премии 4\n",
      "Сотрудник Александр имеет квалификацию 1\n",
      "Текущее количество баллов 5\n",
      "Сотрудник Александр имеет квалификацию 1\n",
      "Текущее количество баллов 6\n",
      "Сотрудник Александр имеет квалификацию 2\n",
      "Текущее количество баллов 7\n"
     ]
    }
   ],
   "source": [
    "alex = Designer(name = 'Александр', seniority = 0)\n",
    "print(f'Количество баллов при поступлении на работу {alex.seniority}')\n",
    "alex.get_awards() #Александр получает международную премию, после которой баллы увеличиваются на 2\n",
    "print(f'Количество баллов после получения премии {alex.seniority}')\n",
    "alex.get_awards() #Александр получает вторую международную премию\n",
    "print(f'Количество баллов после получения второй премии {alex.seniority}')\n",
    "alex.check_if_it_is_time_for_upgrade() #повышение квалификации\n",
    "print(f'Текущее количество баллов {alex.seniority}')\n",
    "alex.check_if_it_is_time_for_upgrade() #повышение квалификации\n",
    "print(f'Текущее количество баллов {alex.seniority}')\n",
    "alex.check_if_it_is_time_for_upgrade() #повышение квалификации\n",
    "print(f'Текущее количество баллов {alex.seniority}')"
   ]
  },
  {
   "cell_type": "code",
   "execution_count": null,
   "metadata": {},
   "outputs": [],
   "source": []
  }
 ],
 "metadata": {
  "kernelspec": {
   "display_name": "Python 3",
   "language": "python",
   "name": "python3"
  },
  "language_info": {
   "codemirror_mode": {
    "name": "ipython",
    "version": 3
   },
   "file_extension": ".py",
   "mimetype": "text/x-python",
   "name": "python",
   "nbconvert_exporter": "python",
   "pygments_lexer": "ipython3",
   "version": "3.7.4"
  }
 },
 "nbformat": 4,
 "nbformat_minor": 2
}
