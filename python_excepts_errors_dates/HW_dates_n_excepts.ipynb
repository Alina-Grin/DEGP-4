{
 "cells": [
  {
   "cell_type": "markdown",
   "metadata": {},
   "source": [
    "### Задание 1"
   ]
  },
  {
   "cell_type": "code",
   "execution_count": 1,
   "metadata": {},
   "outputs": [],
   "source": [
    "from datetime import datetime\n",
    "# The Moscow Times - Wednesday, October 2, 2002\n",
    "# The Guardian - Friday, 11.10.13\n",
    "# Daily News - Thursday, 18 August 1977\n",
    "\n",
    "notations = {\n",
    "    'The Moscow Times' : '%A, %B %d, %Y', \n",
    "    'The Guardian' : '%A, %d.%m.%y', \n",
    "    'Daily News' : '%A, %d %B %Y'}"
   ]
  },
  {
   "cell_type": "markdown",
   "metadata": {},
   "source": [
    "### Задание 2"
   ]
  },
  {
   "cell_type": "code",
   "execution_count": 2,
   "metadata": {},
   "outputs": [
    {
     "name": "stdout",
     "output_type": "stream",
     "text": [
      "[True, False, False]\n"
     ]
    }
   ],
   "source": [
    "from datetime import datetime\n",
    "\n",
    "stream = ['2018-04-02', '2018-02-29', '2018-19-02']\n",
    "\n",
    "def check_date_format(date):\n",
    "    try:\n",
    "        datetime.strptime(date, '%Y-%m-%d')\n",
    "        return(True)\n",
    "    except:\n",
    "        return(False)\n",
    "\n",
    "print(list(map(lambda x: check_date_format(x), stream)))"
   ]
  },
  {
   "cell_type": "markdown",
   "metadata": {},
   "source": [
    "### Задание 3"
   ]
  },
  {
   "cell_type": "code",
   "execution_count": 3,
   "metadata": {},
   "outputs": [
    {
     "name": "stdout",
     "output_type": "stream",
     "text": [
      "Введите начальную дату в формате YYYY-MM-DD 2021-01-01\n",
      "Введите конечную дату в формате YYYY-MM-DD 2021-01-06\n"
     ]
    },
    {
     "data": {
      "text/plain": [
       "['2021-01-01', '2021-01-02', '2021-01-03', '2021-01-04', '2021-01-05']"
      ]
     },
     "execution_count": 3,
     "metadata": {},
     "output_type": "execute_result"
    }
   ],
   "source": [
    "from datetime import timedelta\n",
    "\n",
    "start_date = input('Введите начальную дату в формате YYYY-MM-DD ')\n",
    "end_date = input('Введите конечную дату в формате YYYY-MM-DD ')\n",
    "\n",
    "# def date_range(start_date, end_date):\n",
    "#     date_list = []\n",
    "#     if check_date_format(start_date) and check_date_format(end_date):\n",
    "#         temp_date = datetime.strptime(start_date, '%Y-%m-%d')\n",
    "#         while temp_date <= datetime.strptime(end_date, '%Y-%m-%d'):\n",
    "#             date_list.append(temp_date.strftime('%Y-%m-%d'))\n",
    "#             temp_date += timedelta(days=1)\n",
    "#     return(date_list)\n",
    "\n",
    "def date_range(start_date, end_date):\n",
    "    date_list = []\n",
    "    if check_date_format(start_date) and check_date_format(end_date):\n",
    "        date_list = [(datetime.strptime(start_date, '%Y-%m-%d') + timedelta(days = x)).strftime('%Y-%m-%d') for x in range((datetime.strptime(end_date, '%Y-%m-%d') - datetime.strptime(start_date, '%Y-%m-%d')).days)]\n",
    "    return(date_list)\n",
    "\n",
    "date_range(start_date, end_date)"
   ]
  },
  {
   "cell_type": "markdown",
   "metadata": {},
   "source": [
    "### Задание 4"
   ]
  },
  {
   "cell_type": "markdown",
   "metadata": {},
   "source": [
    "DEFAULT_USER_COUNT = 3\n",
    "\n",
    "def delete_and_return_last_user(region, default_list=['A100', 'A101', 'A102']):\n",
    "    \"\"\"\n",
    "    Удаляет из списка default_list последнего пользователя\n",
    "    и возвращает ID нового последнего пользователя.\n",
    "    \"\"\"\n",
    "    element_to_delete = default_list[ - 1]\n",
    "    default_list.remove(element_to_delete)\n",
    "    return default_list[DEFAULT_USER_COUNT - 2]\n",
    "\n",
    "delete_and_return_last_user(1)\n",
    "\n",
    "### Что значит ошибка list index out of range?\n",
    "#### Ошибка говорит о обращению к несуществующем элементу списка, то есть список короче и нет элемента с таким индексом.\n",
    "### Почему при первом запуске функция работает корректно, а при втором - нет?\n",
    "#### Функция возвращает не последний элемент в списке, а элемент стоящий на второй позиции (индекс 1).  При первом вызове фукция он существует, при повторном вызове элемент с индексом 1 удалится и в списке default_list останется только 1 элемент с индексом 0 и нет элемента с индексом 1. "
   ]
  },
  {
   "cell_type": "code",
   "execution_count": null,
   "metadata": {},
   "outputs": [],
   "source": []
  }
 ],
 "metadata": {
  "kernelspec": {
   "display_name": "Python 3",
   "language": "python",
   "name": "python3"
  },
  "language_info": {
   "codemirror_mode": {
    "name": "ipython",
    "version": 3
   },
   "file_extension": ".py",
   "mimetype": "text/x-python",
   "name": "python",
   "nbconvert_exporter": "python",
   "pygments_lexer": "ipython3",
   "version": "3.7.4"
  }
 },
 "nbformat": 4,
 "nbformat_minor": 2
}
