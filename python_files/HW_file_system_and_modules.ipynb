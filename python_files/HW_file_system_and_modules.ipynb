{
 "cells": [
  {
   "cell_type": "code",
   "execution_count": 1,
   "metadata": {},
   "outputs": [
    {
     "name": "stdout",
     "output_type": "stream",
     "text": [
      "[('user_id', 'category'), ('1840e0b9d4', 'Продукты'), ('4e4f90fcfb', 'Электроника'), ('afea8d72fc', 'Электроника'), ('373a6055fe', 'Бытовая техника')]\n",
      "\n",
      "В файле purchase_log.txt 99518 строк.\n"
     ]
    }
   ],
   "source": [
    "import json\n",
    "\n",
    "purchases = {}\n",
    "\n",
    "with open ('purchase_log.txt') as f:\n",
    "\n",
    "#Вариант 1\n",
    "#     for line in f:\n",
    "#         line = line.strip()\n",
    "#         purchases[json.loads(line)['user_id']] = json.loads(line)['category']\n",
    "    \n",
    "#Вариант 2\n",
    "    for item in [json.loads(line.strip()) for line in f]:\n",
    "        purchases[item['user_id']] = item['category']\n",
    "\n",
    "#Вывод содержимого первых 5 строк и длины словаря\n",
    "items = list(purchases.items())\n",
    "print(items[:5])\n",
    "print(f'\\nВ файле purchase_log.txt {len(items)} строк.')"
   ]
  },
  {
   "cell_type": "code",
   "execution_count": 2,
   "metadata": {},
   "outputs": [],
   "source": [
    "#Запись в файл funnel.csv данных из visit_log.csv, дополненных категорией из purchases (файла purchase_log)\n",
    "with open ('visit_log.csv', mode='r') as read_file:\n",
    "    with open ('funnel.csv', mode='w') as write_file:\n",
    "        for line in read_file:\n",
    "            user_id = line.strip().split(',')[0]\n",
    "            if user_id in purchases.keys():\n",
    "                line2write = line.strip()+ ','  + purchases[user_id] + '\\n'\n",
    "                write_file.writelines(line.strip()+ ','  + purchases[user_id] + '\\n')"
   ]
  },
  {
   "cell_type": "code",
   "execution_count": 3,
   "metadata": {},
   "outputs": [
    {
     "name": "stdout",
     "output_type": "stream",
     "text": [
      "[['user_id', 'source', 'category'], ['1840e0b9d4', 'other', 'Продукты'], ['4e4f90fcfb', 'context', 'Электроника'], ['afea8d72fc', 'other', 'Электроника'], ['2824221f38', 'email', 'Продукты']]\n"
     ]
    }
   ],
   "source": [
    "#Первые 5 строк из funnel.csv\n",
    "with open ('funnel.csv', mode='r') as rfile:\n",
    "    print([next(rfile).strip().split(',') for x in range(5)])"
   ]
  },
  {
   "cell_type": "code",
   "execution_count": null,
   "metadata": {},
   "outputs": [],
   "source": []
  }
 ],
 "metadata": {
  "kernelspec": {
   "display_name": "Python 3",
   "language": "python",
   "name": "python3"
  },
  "language_info": {
   "codemirror_mode": {
    "name": "ipython",
    "version": 3
   },
   "file_extension": ".py",
   "mimetype": "text/x-python",
   "name": "python",
   "nbconvert_exporter": "python",
   "pygments_lexer": "ipython3",
   "version": "3.7.4"
  }
 },
 "nbformat": 4,
 "nbformat_minor": 2
}
