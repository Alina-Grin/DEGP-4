{
 "cells": [
  {
   "cell_type": "markdown",
   "metadata": {},
   "source": [
    "### Задание 1"
   ]
  },
  {
   "cell_type": "code",
   "execution_count": 1,
   "metadata": {},
   "outputs": [
    {
     "name": "stdout",
     "output_type": "stream",
     "text": [
      "Введите номер автотранспорта: А222BС96\n",
      "Результат: Номер А222BС валиден. Регион: 96\n"
     ]
    }
   ],
   "source": [
    "import re\n",
    "\n",
    "#  Используемые в номерах буквы А, В, Е, К, М, Н, О, Р, С, Т, У, Х\n",
    "def transport_number_validation(car_id):\n",
    "    pattern = re.compile(r'\\b[АВЕКМНОРСТУХABEKMHOPCTX]\\d{3}[АВЕКМНОРСТУХABEKMHOPCTX]{2}\\d{2,3}\\b')\n",
    "    result = pattern.findall(car_id)\n",
    "    if len(result):\n",
    "        number = result[0][0:6]\n",
    "        region = result[0][6:]\n",
    "        print(f'Результат: Номер {number} валиден. Регион: {region}')\n",
    "    else:\n",
    "        print(f'Номер не валиден')\n",
    "\n",
    "\n",
    "car_id = input('Введите номер автотранспорта: ')\n",
    "transport_number_validation(car_id)"
   ]
  },
  {
   "cell_type": "markdown",
   "metadata": {},
   "source": [
    "### Задание 2"
   ]
  },
  {
   "cell_type": "code",
   "execution_count": 2,
   "metadata": {},
   "outputs": [
    {
     "name": "stdout",
     "output_type": "stream",
     "text": [
      "Напишите функцию, которая будет удалять все последовательные повторы слов из заданной строки при помощи все регулярных выражений\n"
     ]
    }
   ],
   "source": [
    "some_string = 'Напишите Напишите функцию функцию, которая будет будет будет будет удалять все все все все последовательные повторы слов из из из из заданной строки строки при помощи все регулярных выражений'\n",
    "\n",
    "def remove_duplicate(string):\n",
    "    result = re.sub(r'\\b(\\w+)( \\1\\b)+', r'\\1', string)\n",
    "    print(result)\n",
    "\n",
    "remove_duplicate(some_string)"
   ]
  },
  {
   "cell_type": "markdown",
   "metadata": {},
   "source": [
    "### Задание 3"
   ]
  },
  {
   "cell_type": "code",
   "execution_count": 3,
   "metadata": {},
   "outputs": [
    {
     "name": "stdout",
     "output_type": "stream",
     "text": [
      "NFC\n"
     ]
    }
   ],
   "source": [
    "# some_words = 'Информационные технологии'\n",
    "some_words = 'Near Field Communication'\n",
    "\n",
    "def acronym(words):\n",
    "    result = re.split(r'[,\\s]', words)\n",
    "    print(''.join(x[0].upper() for x in result))\n",
    "        \n",
    "acronym(some_words)"
   ]
  },
  {
   "cell_type": "markdown",
   "metadata": {},
   "source": [
    "### Задание 4"
   ]
  },
  {
   "cell_type": "code",
   "execution_count": 4,
   "metadata": {},
   "outputs": [
    {
     "name": "stdout",
     "output_type": "stream",
     "text": [
      "gmail.com : 2\n",
      "test.in : 1\n",
      "ya.ru : 2\n",
      "mail.ru : 1\n"
     ]
    }
   ],
   "source": [
    "emails = ['test@gmail.com', 'xyz@test.in', 'test@ya.ru', 'xyz@mail.ru', 'xyz@ya.ru', 'xyz@gmail.com']\n",
    "\n",
    "def domains_count(emails):\n",
    "    domains = []\n",
    "    for email in emails:\n",
    "        pattern = re.compile(r'@(\\w+.\\w+)')\n",
    "        domains += pattern.findall(email)\n",
    "    for item in [(x, domains.count(x)) for x in dict.fromkeys(domains)]:\n",
    "        print(f'{item[0]} : {item[1]}')\n",
    "    \n",
    "domains_count(emails)"
   ]
  },
  {
   "cell_type": "markdown",
   "metadata": {},
   "source": [
    "### Задание 5"
   ]
  },
  {
   "cell_type": "code",
   "execution_count": 5,
   "metadata": {},
   "outputs": [
    {
     "name": "stdout",
     "output_type": "stream",
     "text": [
      "Слов на гласные буквы: 9 Слов на согласные буквы: 21\n"
     ]
    }
   ],
   "source": [
    "some_text = 'Эталонной реализацией Python является интерпретатор CPython, поддерживающий большинство активно используемых платформ. Он распространяется под свободной лицензией Python Software Foundation License, позволяющей использовать его без ограничений в любых приложениях, включая проприетарные.'\n",
    "\n",
    "def count_letters(text):\n",
    "    vowels = re.findall(r'\\b[AEIUYOaeioyuУЕЫАОЭЯИЮЁуеёыаояиюэ]\\w+', text)\n",
    "    consonant = re.findall(r'\\b[^AEIUYOaeioyuУЕЫАОЭЯИЮЁуеёыаояиюэ ,.:;]\\w*', text)\n",
    "    print(f'Слов на гласные буквы: {len(vowels)} Слов на согласные буквы: {len(consonant)}')\n",
    "\n",
    "count_letters(some_text)"
   ]
  },
  {
   "cell_type": "markdown",
   "metadata": {},
   "source": [
    "### Задание 6"
   ]
  },
  {
   "cell_type": "code",
   "execution_count": 6,
   "metadata": {},
   "outputs": [
    {
     "name": "stdout",
     "output_type": "stream",
     "text": [
      "+7-955-555-55-51\n",
      "+7-955-555-55-52\n",
      "+7-955-555-55-53\n",
      "+7-955-555-55-54\n",
      "Номер не валиден\n",
      "Номер не валиден\n"
     ]
    }
   ],
   "source": [
    "phone_list = ['+7 955 555-55-51', '+8(955)555-55-52', '+7 955 555 55 53', '7(955) 555-55-54', '423-555-55-5555',  '123-456-789']\n",
    "\n",
    "def phone_number_conversation(phone_number):\n",
    "    result = re.sub(r'[-;,+()\\s]','', phone_number)\n",
    "    if len(result) == 11:\n",
    "        print(re.sub(r'\\b[7|8](\\d{3})(\\d{3})(\\d{2})(\\d{2})',r'+7-\\1-\\2-\\3-\\4',result))\n",
    "    else:\n",
    "        print('Номер не валиден')\n",
    "\n",
    "for i in phone_list:\n",
    "    phone_number_conversation(i)"
   ]
  },
  {
   "cell_type": "code",
   "execution_count": null,
   "metadata": {},
   "outputs": [],
   "source": []
  }
 ],
 "metadata": {
  "kernelspec": {
   "display_name": "Python 3",
   "language": "python",
   "name": "python3"
  },
  "language_info": {
   "codemirror_mode": {
    "name": "ipython",
    "version": 3
   },
   "file_extension": ".py",
   "mimetype": "text/x-python",
   "name": "python",
   "nbconvert_exporter": "python",
   "pygments_lexer": "ipython3",
   "version": "3.7.4"
  }
 },
 "nbformat": 4,
 "nbformat_minor": 2
}
