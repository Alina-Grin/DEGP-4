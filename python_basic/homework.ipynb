{
 "cells": [
  {
   "cell_type": "markdown",
   "metadata": {},
   "source": [
    "### Задание 1"
   ]
  },
  {
   "cell_type": "code",
   "execution_count": 4,
   "metadata": {},
   "outputs": [
    {
     "name": "stdout",
     "output_type": "stream",
     "text": [
      "Фраза 1 длиннее фразы 2\n"
     ]
    }
   ],
   "source": [
    "phrase_1 = 'Насколько проще было бы писать программы, если бы не заказчики'\n",
    "phrase_2 = '640Кб должно хватить для любых задач. Билл Гейтс (по легенде)'\n",
    "result = len(phrase_1) - len(phrase_2)\n",
    "if result > 0:\n",
    "    print('Фраза 1 длиннее фразы 2')\n",
    "elif result < 0:\n",
    "    print('Фраза 2 длиннее фразы 1')\n",
    "else:\n",
    "    print('Фразы равной длины')"
   ]
  },
  {
   "cell_type": "markdown",
   "metadata": {},
   "source": [
    "### Задание 2"
   ]
  },
  {
   "cell_type": "code",
   "execution_count": 6,
   "metadata": {},
   "outputs": [
    {
     "name": "stdout",
     "output_type": "stream",
     "text": [
      "Високосный год\n"
     ]
    }
   ],
   "source": [
    "year = 2020\n",
    "if (year % 4 == 0) and (year % 100 != 0) or (year % 400 == 0):\n",
    "    print('Високосный год')\n",
    "else:\n",
    "    print('Обычный')"
   ]
  },
  {
   "cell_type": "markdown",
   "metadata": {},
   "source": [
    "### Задание 3"
   ]
  },
  {
   "cell_type": "code",
   "execution_count": 48,
   "metadata": {},
   "outputs": [
    {
     "name": "stdout",
     "output_type": "stream",
     "text": [
      "Введите день\n",
      "11\n",
      "Введите месяц\n",
      "апрель\n",
      "\n",
      "Результат:\n",
      "Ваш знак зодиака: Овен\n"
     ]
    }
   ],
   "source": [
    "print('Введите день')\n",
    "day = int(input())\n",
    "\n",
    "print('Введите месяц')\n",
    "month = str(input()).lower()\n",
    "\n",
    "sign_dates = (\n",
    "    ((20, 'март'), (19, 'апрель')),\n",
    "    ((20, 'апрель'), (20, 'май')),\n",
    "    ((21, 'май'), (20, 'июнь')),\n",
    "    ((21, 'июнь'), (22, 'июль')),\n",
    "    ((23, 'июль'), (22, 'август')),\n",
    "    ((23, 'август'), (22, 'сентябрь')),\n",
    "    ((23, 'сентябрь'), (22, 'октябрь')),\n",
    "    ((23, 'октябрь'), (21, 'ноябрь')),\n",
    "    ((22, 'ноябрь'), (21, 'декабрь')),\n",
    "    ((22, 'декабрь'), (19, 'январь')),\n",
    "    ((20, 'январь'), (17, 'февраль')),\n",
    "    ((18, 'февраль'), (19, 'март')),\n",
    ")\n",
    "\n",
    "signs = (\n",
    "    (0, 'Овен'),\n",
    "    (1, 'Телец'),\n",
    "    (2, 'Близнецы'),\n",
    "    (3, 'Рак'),\n",
    "    (4, 'Лев'),\n",
    "    (5, 'Дева'),\n",
    "    (6, 'Весы'),\n",
    "    (7, 'Скорпион'),\n",
    "    (8, 'Стрелец'),\n",
    "    (9, 'Козерог'),\n",
    "    (10, 'Водолей'),\n",
    "    (11, 'Рыбы'),\n",
    ")\n",
    "for el in sign_dates:\n",
    "    if (month in el[0] and day >= el[0][0]) or (month in el[1] and day <= el[1][0]):\n",
    "        print ('\\nРезультат:\\nВаш знак зодиака:', signs[sign_dates.index(el)][1])"
   ]
  },
  {
   "cell_type": "markdown",
   "metadata": {},
   "source": [
    "### Задание 4"
   ]
  },
  {
   "cell_type": "code",
   "execution_count": 58,
   "metadata": {},
   "outputs": [
    {
     "name": "stdout",
     "output_type": "stream",
     "text": [
      "Коробка №1\n"
     ]
    }
   ],
   "source": [
    "width = 10\n",
    "length = 11\n",
    "height = 5\n",
    "\n",
    "if length >= 200:\n",
    "    print('Упаковка для лыж')\n",
    "elif width < 15 and length < 15 and height < 15:\n",
    "    print('Коробка №1')\n",
    "elif (15 < width < 50) and (15 < length < 50) and (15 < height < 50):\n",
    "    print('Коробка №2')\n",
    "else:\n",
    "    print('Стандартная коробка №3')"
   ]
  },
  {
   "cell_type": "markdown",
   "metadata": {},
   "source": [
    "### Задание 5"
   ]
  },
  {
   "cell_type": "code",
   "execution_count": 61,
   "metadata": {},
   "outputs": [
    {
     "name": "stdout",
     "output_type": "stream",
     "text": [
      "Счастливый билет\n"
     ]
    }
   ],
   "source": [
    "#Вариант 1\n",
    "number = 123123\n",
    "\n",
    "part_1 = str(number)[0] + str(number)[1] + str(number)[2]\n",
    "part_2 = str(number)[3] + str(number)[4] + str(number)[5]\n",
    "\n",
    "if part_1 == part_2:\n",
    "    print('Счастливый билет')\n",
    "else:\n",
    "    print('Несчастливый билет')"
   ]
  },
  {
   "cell_type": "code",
   "execution_count": 94,
   "metadata": {},
   "outputs": [
    {
     "name": "stdout",
     "output_type": "stream",
     "text": [
      "Счастливый билет\n"
     ]
    }
   ],
   "source": [
    "#Вариант 2\n",
    "number = 123354\n",
    "part_1 = number // 100000 + (number // 10000 - (number // 100000)*10) + (number // 1000 - (number // 10000)*10)\n",
    "part_2 = (number // 100 - (number // 1000)*10) + (number // 10 - (number // 100)*10) + (number - (number // 10)*10)\n",
    "if part_1 == part_2:\n",
    "    print('Счастливый билет')\n",
    "else:\n",
    "    print('Несчастливый билет')\n"
   ]
  },
  {
   "cell_type": "markdown",
   "metadata": {},
   "source": [
    "### Задание 6"
   ]
  },
  {
   "cell_type": "code",
   "execution_count": 117,
   "metadata": {},
   "outputs": [
    {
     "name": "stdout",
     "output_type": "stream",
     "text": [
      "треугольник\n",
      "Введите длину стороны A: 2\n",
      "Введите длину стороны B: 2\n",
      "Введите длину стороны C: 3\n",
      "\n",
      "Результат:\n",
      "Площадь треугольника: 1.98\n"
     ]
    }
   ],
   "source": [
    "from math import pi, sqrt\n",
    "\n",
    "fig = str(input()).lower()\n",
    "fig_set = ('круг', 'треугольник', 'прямоугольник')\n",
    "if fig == fig_set[0]:\n",
    "    r = float(input('Введите радиус круга: '))\n",
    "    print('\\nРезультат:\\nПлощадь круга: %.2f' %(pi * r ** 2))\n",
    "elif fig == fig_set[1]:\n",
    "    a = float(input('Введите длину стороны A: '))\n",
    "    b = float(input('Введите длину стороны B: '))\n",
    "    c = float(input('Введите длину стороны C: '))\n",
    "    p = (a + b + c) / 2\n",
    "    tria_sqr = sqrt(p * (p - a) * (p - b) * (p - c))\n",
    "    print('\\nРезультат:\\nПлощадь треугольника: %.2f' %tria_sqr)\n",
    "elif fig == fig_set[2]:\n",
    "    a = float(input('Введите длину стороны A: '))\n",
    "    b = float(input('Введите длину стороны B: '))\n",
    "    print('\\nРезультат:\\nПлощадь прямоугольника: %.2f' %(a * b))\n",
    "else:\n",
    "    print('Не знаю такой фигуры.')"
   ]
  },
  {
   "cell_type": "code",
   "execution_count": null,
   "metadata": {},
   "outputs": [],
   "source": []
  }
 ],
 "metadata": {
  "kernelspec": {
   "display_name": "Python 3",
   "language": "python",
   "name": "python3"
  },
  "language_info": {
   "codemirror_mode": {
    "name": "ipython",
    "version": 3
   },
   "file_extension": ".py",
   "mimetype": "text/x-python",
   "name": "python",
   "nbconvert_exporter": "python",
   "pygments_lexer": "ipython3",
   "version": "3.7.4"
  }
 },
 "nbformat": 4,
 "nbformat_minor": 2
}
