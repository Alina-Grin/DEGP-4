{
 "cells": [
  {
   "cell_type": "markdown",
   "metadata": {},
   "source": [
    "### Задание 1"
   ]
  },
  {
   "cell_type": "code",
   "execution_count": 1,
   "metadata": {},
   "outputs": [
    {
     "name": "stdout",
     "output_type": "stream",
     "text": [
      "Результат:\n",
      "es\n"
     ]
    }
   ],
   "source": [
    "word = 'test'\n",
    "# word = str(input('Введите слово: '))\n",
    "len_word = len(word)\n",
    "mid_index = int(len_word / 2)\n",
    "print('Результат:')\n",
    "if len_word % 2 == 0:\n",
    "    print(word[mid_index - 1: mid_index + 1])\n",
    "else:\n",
    "    print(word[mid_index])"
   ]
  },
  {
   "cell_type": "markdown",
   "metadata": {},
   "source": [
    "### Задание 2"
   ]
  },
  {
   "cell_type": "code",
   "execution_count": 2,
   "metadata": {},
   "outputs": [
    {
     "name": "stdout",
     "output_type": "stream",
     "text": [
      "Введите число: 1\n",
      "Введите число: 2\n",
      "Введите число: 3\n",
      "Введите число: 4\n",
      "Введите число: 5\n",
      "Введите число: 0\n",
      "Результат:\n",
      " 15\n"
     ]
    }
   ],
   "source": [
    "numbers_list = []\n",
    "\n",
    "while True:\n",
    "    number = int(input('Введите число: '))\n",
    "    numbers_list.append(number)\n",
    "    if number == 0:\n",
    "        print('Результат:\\n', sum(numbers_list))\n",
    "        break\n",
    "    else:\n",
    "        continue"
   ]
  },
  {
   "cell_type": "markdown",
   "metadata": {},
   "source": [
    "### Задание 3"
   ]
  },
  {
   "cell_type": "code",
   "execution_count": 3,
   "metadata": {},
   "outputs": [
    {
     "name": "stdout",
     "output_type": "stream",
     "text": [
      "Результат:\n",
      "Идеальные пары:\n",
      "Alex и Emma\n",
      "Arthur и Kate\n",
      "John и Kira\n",
      "Peter и Liza\n",
      "Richard и Trisha\n"
     ]
    }
   ],
   "source": [
    "boys = ['Peter', 'Alex', 'John', 'Arthur', 'Richard']\n",
    "girls = ['Kate', 'Liza', 'Kira', 'Emma', 'Trisha']\n",
    "if len(boys) != len(girls):\n",
    "    print('Результат:\\nВнимание, кто-то может остаться без пары!')\n",
    "else:\n",
    "    boys_sort = sorted(boys)\n",
    "    girls_sort = sorted(girls)\n",
    "    zipped = zip(boys_sort, girls_sort)\n",
    "    print('Результат:\\nИдеальные пары:')\n",
    "    for el in list(zipped):\n",
    "        print('%s и %s' %(el[0], el[1]))"
   ]
  },
  {
   "cell_type": "markdown",
   "metadata": {},
   "source": [
    "### Задание 4"
   ]
  },
  {
   "cell_type": "code",
   "execution_count": 4,
   "metadata": {},
   "outputs": [
    {
     "name": "stdout",
     "output_type": "stream",
     "text": [
      "Результат:\n",
      "\n",
      "Средняя температура в странах:\n",
      "Thailand - 23.9\n",
      "Germany - 13.8\n",
      "Russia - 3.7\n",
      "Poland - 12.0\n"
     ]
    }
   ],
   "source": [
    "countries_temperature = [\n",
    "['Thailand', [75.2, 77, 78.8, 73.4, 68, 75.2, 77]],\n",
    "['Germany', [57.2, 55.4, 59, 59, 53.6]],\n",
    "['Russia', [35.6, 37.4, 39.2, 41, 42.8, 39.2, 35.6]],\n",
    "['Poland', [50, 50, 53.6, 57.2, 55.4, 55.4]]\n",
    "]\n",
    "print('Результат:\\n\\nСредняя температура в странах:')\n",
    "countries_temperature_celsium = {}\n",
    "for el in countries_temperature:\n",
    "    countries_temperature_celsium[el[0]] = (sum(el[1])/len(el[1]) - 32) * 5 / 9\n",
    "for key, value in countries_temperature_celsium.items():\n",
    "    print('%s - %.1f' %(key, value))"
   ]
  },
  {
   "cell_type": "markdown",
   "metadata": {},
   "source": [
    "### Задание 5"
   ]
  },
  {
   "cell_type": "code",
   "execution_count": 5,
   "metadata": {},
   "outputs": [
    {
     "name": "stdout",
     "output_type": "stream",
     "text": [
      "Результат:\n",
      "Среднее количество просмотров на уникального пользователя: 23.25\n"
     ]
    }
   ],
   "source": [
    "stream = [\n",
    "'2018-01-01,user1,3',\n",
    "'2018-01-07,user1,4',\n",
    "'2018-03-29,user1,1',\n",
    "'2018-04-04,user1,13',\n",
    "'2018-01-05,user2,7',\n",
    "'2018-06-14,user3,4',\n",
    "'2018-07-02,user3,10',\n",
    "'2018-03-21,user4,19',\n",
    "'2018-03-22,user4,4',\n",
    "'2018-04-22,user4,8',\n",
    "'2018-05-03,user4,9',\n",
    "'2018-05-11,user4,11',\n",
    "]\n",
    "# stream = [\n",
    "# '2018-01-01,user100,150',\n",
    "# '2018-01-07,user99,205',\n",
    "# '2018-03-29,user1001,81'\n",
    "# ]\n",
    "print('Результат:')\n",
    "users_views = {}\n",
    "for el in stream:\n",
    "    if el.split(',')[1] in users_views.keys():\n",
    "        users_views[el.split(',')[1]] += int(el.split(',')[2])\n",
    "    else:\n",
    "        users_views[el.split(',')[1]] = int(el.split(',')[2])\n",
    "print('Среднее количество просмотров на уникального пользователя: %.2f' %(sum(users_views.values()) / len(users_views)))"
   ]
  },
  {
   "cell_type": "markdown",
   "metadata": {},
   "source": [
    "### Задание 6"
   ]
  },
  {
   "cell_type": "code",
   "execution_count": 6,
   "metadata": {},
   "outputs": [
    {
     "name": "stdout",
     "output_type": "stream",
     "text": [
      "Введите числа через пробел: 4 8 0 3 4 2 0 3\n",
      "Результат:\n",
      " 0 3 4\n"
     ]
    }
   ],
   "source": [
    "numbers_str = str(input('Введите числа через пробел: '))\n",
    "numbers = {}\n",
    "for el in numbers_str.split(' '):\n",
    "    if el in numbers.keys():\n",
    "        numbers[el] += 1\n",
    "    else:\n",
    "        numbers[el] = 1\n",
    "often_numers = sorted([key for key, value in numbers.items() if value > 1])\n",
    "print('Результат:\\n', ' '.join(often_numers))"
   ]
  }
 ],
 "metadata": {
  "kernelspec": {
   "display_name": "Python 3",
   "language": "python",
   "name": "python3"
  },
  "language_info": {
   "codemirror_mode": {
    "name": "ipython",
    "version": 3
   },
   "file_extension": ".py",
   "mimetype": "text/x-python",
   "name": "python",
   "nbconvert_exporter": "python",
   "pygments_lexer": "ipython3",
   "version": "3.7.4"
  }
 },
 "nbformat": 4,
 "nbformat_minor": 2
}
