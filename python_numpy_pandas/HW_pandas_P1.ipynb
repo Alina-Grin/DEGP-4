{
 "cells": [
  {
   "cell_type": "markdown",
   "metadata": {},
   "source": [
    "### Задание 1\n",
    "Скачайте с сайта grouplens.org...movielens/ датасет любого размера. Определите какому фильму было выставлено больше всего оценок 5.0."
   ]
  },
  {
   "cell_type": "code",
   "execution_count": 1,
   "metadata": {},
   "outputs": [
    {
     "data": {
      "text/html": [
       "<div>\n",
       "<style scoped>\n",
       "    .dataframe tbody tr th:only-of-type {\n",
       "        vertical-align: middle;\n",
       "    }\n",
       "\n",
       "    .dataframe tbody tr th {\n",
       "        vertical-align: top;\n",
       "    }\n",
       "\n",
       "    .dataframe thead th {\n",
       "        text-align: right;\n",
       "    }\n",
       "</style>\n",
       "<table border=\"1\" class=\"dataframe\">\n",
       "  <thead>\n",
       "    <tr style=\"text-align: right;\">\n",
       "      <th></th>\n",
       "      <th>userId</th>\n",
       "      <th>movieId</th>\n",
       "      <th>rating</th>\n",
       "      <th>timestamp</th>\n",
       "    </tr>\n",
       "  </thead>\n",
       "  <tbody>\n",
       "    <tr>\n",
       "      <th>0</th>\n",
       "      <td>1</td>\n",
       "      <td>307</td>\n",
       "      <td>3.5</td>\n",
       "      <td>1256677221</td>\n",
       "    </tr>\n",
       "    <tr>\n",
       "      <th>1</th>\n",
       "      <td>1</td>\n",
       "      <td>481</td>\n",
       "      <td>3.5</td>\n",
       "      <td>1256677456</td>\n",
       "    </tr>\n",
       "    <tr>\n",
       "      <th>2</th>\n",
       "      <td>1</td>\n",
       "      <td>1091</td>\n",
       "      <td>1.5</td>\n",
       "      <td>1256677471</td>\n",
       "    </tr>\n",
       "    <tr>\n",
       "      <th>3</th>\n",
       "      <td>1</td>\n",
       "      <td>1257</td>\n",
       "      <td>4.5</td>\n",
       "      <td>1256677460</td>\n",
       "    </tr>\n",
       "    <tr>\n",
       "      <th>4</th>\n",
       "      <td>1</td>\n",
       "      <td>1449</td>\n",
       "      <td>4.5</td>\n",
       "      <td>1256677264</td>\n",
       "    </tr>\n",
       "  </tbody>\n",
       "</table>\n",
       "</div>"
      ],
      "text/plain": [
       "   userId  movieId  rating   timestamp\n",
       "0       1      307     3.5  1256677221\n",
       "1       1      481     3.5  1256677456\n",
       "2       1     1091     1.5  1256677471\n",
       "3       1     1257     4.5  1256677460\n",
       "4       1     1449     4.5  1256677264"
      ]
     },
     "execution_count": 1,
     "metadata": {},
     "output_type": "execute_result"
    }
   ],
   "source": [
    "import pandas as pd\n",
    "\n",
    "ratings = pd.read_csv(r'ratings.csv')\n",
    "ratings.head()"
   ]
  },
  {
   "cell_type": "code",
   "execution_count": 2,
   "metadata": {
    "scrolled": true
   },
   "outputs": [
    {
     "data": {
      "text/plain": [
       "318    48762\n",
       "296    37458\n",
       "356    32009\n",
       "260    31385\n",
       "593    30280\n",
       "Name: movieId, dtype: int64"
      ]
     },
     "execution_count": 2,
     "metadata": {},
     "output_type": "execute_result"
    }
   ],
   "source": [
    "ratings[(ratings['rating'] == 5)]['movieId'].value_counts().head()\n",
    "#больше всего оценок 5 получил фильм с Id 318"
   ]
  },
  {
   "cell_type": "code",
   "execution_count": 3,
   "metadata": {
    "scrolled": true
   },
   "outputs": [
    {
     "data": {
      "text/html": [
       "<div>\n",
       "<style scoped>\n",
       "    .dataframe tbody tr th:only-of-type {\n",
       "        vertical-align: middle;\n",
       "    }\n",
       "\n",
       "    .dataframe tbody tr th {\n",
       "        vertical-align: top;\n",
       "    }\n",
       "\n",
       "    .dataframe thead th {\n",
       "        text-align: right;\n",
       "    }\n",
       "</style>\n",
       "<table border=\"1\" class=\"dataframe\">\n",
       "  <thead>\n",
       "    <tr style=\"text-align: right;\">\n",
       "      <th></th>\n",
       "      <th>movieId</th>\n",
       "      <th>title</th>\n",
       "      <th>genres</th>\n",
       "    </tr>\n",
       "  </thead>\n",
       "  <tbody>\n",
       "    <tr>\n",
       "      <th>315</th>\n",
       "      <td>318</td>\n",
       "      <td>Shawshank Redemption, The (1994)</td>\n",
       "      <td>Crime|Drama</td>\n",
       "    </tr>\n",
       "  </tbody>\n",
       "</table>\n",
       "</div>"
      ],
      "text/plain": [
       "     movieId                             title       genres\n",
       "315      318  Shawshank Redemption, The (1994)  Crime|Drama"
      ]
     },
     "execution_count": 3,
     "metadata": {},
     "output_type": "execute_result"
    }
   ],
   "source": [
    "#Название фильма получаем из файла movies.csv\n",
    "movies = pd.read_csv(r'movies.csv')\n",
    "movies[(movies['movieId'] == 318)]"
   ]
  },
  {
   "cell_type": "markdown",
   "metadata": {},
   "source": [
    "### Задание 2\n",
    "По данным файла power.csv посчитайте суммарное потребление стран Прибалтики (Латвия, Литва и Эстония) категорий 4, 12 и 21 за период с 2005 по 2010 года. Не учитывайте в расчетах отрицательные значения quantity."
   ]
  },
  {
   "cell_type": "code",
   "execution_count": 4,
   "metadata": {},
   "outputs": [
    {
     "data": {
      "text/html": [
       "<div>\n",
       "<style scoped>\n",
       "    .dataframe tbody tr th:only-of-type {\n",
       "        vertical-align: middle;\n",
       "    }\n",
       "\n",
       "    .dataframe tbody tr th {\n",
       "        vertical-align: top;\n",
       "    }\n",
       "\n",
       "    .dataframe thead th {\n",
       "        text-align: right;\n",
       "    }\n",
       "</style>\n",
       "<table border=\"1\" class=\"dataframe\">\n",
       "  <thead>\n",
       "    <tr style=\"text-align: right;\">\n",
       "      <th></th>\n",
       "      <th>country</th>\n",
       "      <th>year</th>\n",
       "      <th>quantity</th>\n",
       "      <th>category</th>\n",
       "    </tr>\n",
       "  </thead>\n",
       "  <tbody>\n",
       "    <tr>\n",
       "      <th>0</th>\n",
       "      <td>Austria</td>\n",
       "      <td>1996</td>\n",
       "      <td>5.0</td>\n",
       "      <td>1</td>\n",
       "    </tr>\n",
       "    <tr>\n",
       "      <th>1</th>\n",
       "      <td>Austria</td>\n",
       "      <td>1995</td>\n",
       "      <td>17.0</td>\n",
       "      <td>1</td>\n",
       "    </tr>\n",
       "    <tr>\n",
       "      <th>2</th>\n",
       "      <td>Belgium</td>\n",
       "      <td>2014</td>\n",
       "      <td>0.0</td>\n",
       "      <td>1</td>\n",
       "    </tr>\n",
       "    <tr>\n",
       "      <th>3</th>\n",
       "      <td>Belgium</td>\n",
       "      <td>2013</td>\n",
       "      <td>0.0</td>\n",
       "      <td>1</td>\n",
       "    </tr>\n",
       "    <tr>\n",
       "      <th>4</th>\n",
       "      <td>Belgium</td>\n",
       "      <td>2012</td>\n",
       "      <td>35.0</td>\n",
       "      <td>1</td>\n",
       "    </tr>\n",
       "  </tbody>\n",
       "</table>\n",
       "</div>"
      ],
      "text/plain": [
       "   country  year  quantity  category\n",
       "0  Austria  1996       5.0         1\n",
       "1  Austria  1995      17.0         1\n",
       "2  Belgium  2014       0.0         1\n",
       "3  Belgium  2013       0.0         1\n",
       "4  Belgium  2012      35.0         1"
      ]
     },
     "execution_count": 4,
     "metadata": {},
     "output_type": "execute_result"
    }
   ],
   "source": [
    "power = pd.read_csv(r'power.csv')\n",
    "power.head()"
   ]
  },
  {
   "cell_type": "code",
   "execution_count": 5,
   "metadata": {},
   "outputs": [
    {
     "data": {
      "text/plain": [
       "240580.0"
      ]
     },
     "execution_count": 5,
     "metadata": {},
     "output_type": "execute_result"
    }
   ],
   "source": [
    "#Выборка из основной таблицы по странам, а затем по категориям с положительным quantity\n",
    "filtered_countries = power[ (power['country']=='Lithuania') | (power['country']=='Latvia') | (power['country']=='Estonia') ]\n",
    "calculating_base = filtered_countries[(filtered_countries['quantity'] >= 0) & ((filtered_countries['category'] == 4) | (filtered_countries['category'] == 12) | (filtered_countries['category'] == 21))]\n",
    "\n",
    "#Суммирование потребления за период с 2005 по 2010 включительно\n",
    "calculating_base[(calculating_base['year'] >= 2005) & (calculating_base['year'] <= 2010)]['quantity'].sum()"
   ]
  },
  {
   "cell_type": "markdown",
   "metadata": {},
   "source": [
    "### Задание 3\n",
    "Выберите страницу любого сайта с табличными данными. Импортируйте таблицы в pandas dataframe."
   ]
  },
  {
   "cell_type": "code",
   "execution_count": 6,
   "metadata": {},
   "outputs": [
    {
     "name": "stdout",
     "output_type": "stream",
     "text": [
      "                           Название   Цена  Изменение  Изменение(%)  Обновлено\n",
      "0  EURRUB Курс евро к рублю сегодня  86.84      -0.12         -0.14        NaN\n",
      "1       USDRUB Курс рубля к доллару  73.36      -0.03         -0.04        NaN \n",
      "\n",
      "                              Название    Цена  Изменение  Изменение(%)  \\\n",
      "0       Нефть Brent Курс нефти сегодня   77.31       0.21          0.27   \n",
      "1          Нефть WTI Цены на нефть WTI   76.35       0.11          0.14   \n",
      "2  Природный газ Цена на природный газ    3.76      -0.03         -0.74   \n",
      "3                                 Кофе  151.80      -1.25         -0.82   \n",
      "4                             Кукуруза  591.40      -0.60         -0.10   \n",
      "\n",
      "   Обновлено  \n",
      "0        NaN  \n",
      "1        NaN  \n",
      "2        NaN  \n",
      "3        NaN  \n",
      "4        NaN   \n",
      "\n",
      "                           Название   Цена  Изменение  Изменение(%)  Обновлено\n",
      "0       Золото Цена золота на бирже  1 808      13.00          1.00        NaN\n",
      "1  Серебро Цена на серебро на бирже  26.66       0.24          0.90        NaN\n",
      "2         Палладий Цена на Палладий  2 837      15.00          1.00        NaN\n",
      "3           Платина Цены на платину  1 109       7.00          1.00        NaN\n",
      "4           Медь Цена меди на бирже   4.39       0.04          1.01        NaN \n",
      "\n",
      "                   Название      Цена  Изменение  Изменение(%)  Обновлено\n",
      "0             ВТБ Акции ВТБ  0.049715  -0.000830     -1.642101        NaN\n",
      "1    Газпром Акции газпрома    294.75      +3.65      1.250000        NaN\n",
      "2       Лукойл Акции Лукойл   6 904.0      +59.0      0.900000        NaN\n",
      "3   Роснефть Акции Роснефти    577.25      +9.75      1.720000        NaN\n",
      "4  Сбербанк Акции Сбербанка    305.17      -1.83     -0.600000        NaN \n",
      "\n",
      "                            Название      Цена  Изменение  Изменение(%)  \\\n",
      "0        Google Акции Google (GOOGL)  2 505.10      -0.05         -0.00   \n",
      "1                IBM Акции IBM (IBM)    140.25       0.23          0.16   \n",
      "2  Microsoft Акции Майкрософт (MSFT)    277.65       0.00          0.00   \n",
      "3           Apple Акции Apple (AAPL)    139.75      -0.21         -0.15   \n",
      "4               Yandex Акции яндекса     71.31      -0.01         -0.01   \n",
      "\n",
      "   Обновлено  \n",
      "0        NaN  \n",
      "1        NaN  \n",
      "2        NaN  \n",
      "3        NaN  \n",
      "4        NaN   \n",
      "\n",
      "  Название      Цена  Изменение  Изменение(%)  Обновлено\n",
      "0     FXIT  11 026.0      -62.0         -0.60        NaN\n",
      "1     FXRU     948.5       -1.1         -0.10        NaN\n",
      "2     FXDE   3 085.5      -25.5         -0.80        NaN\n",
      "3     FXCN   3 791.5      -79.5         -2.10        NaN\n",
      "4     FXGD    893.20        5.2          0.59        NaN \n",
      "\n",
      "                                  Название       Цена Изменение  Изменение(%)  \\\n",
      "0  Индекс МосБиржи Индекс МосБиржи (IMOEX)    390 000    +1 825           0.0   \n",
      "1             Индекс РТС Индекс РТС (RTSI)   1 659.72      0.00           0.0   \n",
      "2               Dow Jones Индекс Dow Jones  34 786.40      0.00           0.0   \n",
      "3                   S&P 500 Индекс S&P 500      4 340        -6          -0.0   \n",
      "4             Nasdaq 100 Индекс Nasdaq 100  14 727.60      0.00           0.0   \n",
      "\n",
      "   Обновлено  \n",
      "0        NaN  \n",
      "1        NaN  \n",
      "2        NaN  \n",
      "3        NaN  \n",
      "4        NaN   \n",
      "\n",
      "                    Название       Цена  Изменение  Изменение(%)  Обновлено\n",
      "0  EUR/USD Евро / Доллар США    1.18368   -0.00256      -0.21581        NaN\n",
      "1  GBP/USD Фунт / Доллар США    1.38438   -0.00091      -0.06569        NaN\n",
      "2     USD/CHF Доллар / Франк    0.92380    0.00155       0.16807        NaN\n",
      "3  USD/JPY Доллар США / Иена  110.80400   -0.11300      -0.10200        NaN\n",
      "4      USD/CNH Доллар / Юань    6.46530    0.00360       0.05570        NaN \n",
      "\n",
      "                                            Название       Цена  Изменение  \\\n",
      "0                              Bitcoin Курс биткоина  34 250.50  573.70000   \n",
      "1         Litecoin Курс лайткоин к доллару (LTC/USD)      138.2    0.50000   \n",
      "2  BitcoinCash Курс Биткоин кеш к доллару США (BC...     509.19    5.06000   \n",
      "3                                          Dash Dash     134.56    2.10000   \n",
      "4                                      Ripple Ripple    0.66589    0.01366   \n",
      "\n",
      "   Изменение(%)  Обновлено  \n",
      "0       1.70000        NaN  \n",
      "1       0.40000        NaN  \n",
      "2       1.00000        NaN  \n",
      "3       1.59000        NaN  \n",
      "4       2.09435        NaN   \n",
      "\n"
     ]
    }
   ],
   "source": [
    "url = 'https://fortrader.org/quotes'\n",
    "\n",
    "df = pd.read_html(url, encoding='utf-8')\n",
    "for item in df:\n",
    "    print(item.head(), '\\n')"
   ]
  }
 ],
 "metadata": {
  "kernelspec": {
   "display_name": "Python 3",
   "language": "python",
   "name": "python3"
  },
  "language_info": {
   "codemirror_mode": {
    "name": "ipython",
    "version": 3
   },
   "file_extension": ".py",
   "mimetype": "text/x-python",
   "name": "python",
   "nbconvert_exporter": "python",
   "pygments_lexer": "ipython3",
   "version": "3.7.4"
  }
 },
 "nbformat": 4,
 "nbformat_minor": 2
}
